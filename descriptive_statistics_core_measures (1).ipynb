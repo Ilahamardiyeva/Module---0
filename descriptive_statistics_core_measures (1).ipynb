{
 "cells": [
  {
   "cell_type": "markdown",
   "id": "b28411ad",
   "metadata": {
    "id": "b28411ad"
   },
   "source": [
    "# 📘 Descriptive Statistics: Key Measures and Exercises\n",
    "This notebook covers core descriptive statistics concepts with examples and hometasks. Topics include:\n",
    "- Mean\n",
    "- Median\n",
    "- Mode\n",
    "- Variance\n",
    "- Standard Deviation"
   ]
  },
  {
   "cell_type": "markdown",
   "id": "0be8a1d7",
   "metadata": {
    "id": "0be8a1d7"
   },
   "source": [
    "## 🔹 Mean (Average)\n",
    "The **mean** is the sum of all values divided by the number of values."
   ]
  },
  {
   "cell_type": "code",
   "execution_count": 1,
   "id": "4975ef8c",
   "metadata": {
    "colab": {
     "base_uri": "https://localhost:8080/"
    },
    "id": "4975ef8c",
    "outputId": "ba661c09-da74-44c5-a3e8-de4a2151cc46"
   },
   "outputs": [
    {
     "data": {
      "text/plain": [
       "14.0"
      ]
     },
     "execution_count": 1,
     "metadata": {},
     "output_type": "execute_result"
    }
   ],
   "source": [
    "import numpy as np\n",
    "\n",
    "data = [10, 12, 14, 16, 18]\n",
    "mean_value = np.mean(data)\n",
    "mean_value"
   ]
  },
  {
   "cell_type": "markdown",
   "id": "1f1a74bb",
   "metadata": {
    "id": "1f1a74bb"
   },
   "source": [
    "### 🏠 Mean: Hometasks\n",
    "1. Calculate the mean for the dataset: `[55, 60, 65, 70, 75, 80]`\n",
    "2. A worker's weekly hours are: `[40, 42, 38, 41, 44]`. What is the mean weekly working time?\n",
    "3. Calculate the mean age of individuals: `[23, 29, 35, 41, 47, 53, 59]`"
   ]
  },
  {
   "cell_type": "code",
   "execution_count": 2,
   "id": "5_76lsIjPo36",
   "metadata": {
    "colab": {
     "base_uri": "https://localhost:8080/"
    },
    "id": "5_76lsIjPo36",
    "outputId": "47b1b070-8a49-430d-afe4-744e0fc64019"
   },
   "outputs": [
    {
     "data": {
      "text/plain": [
       "67.5"
      ]
     },
     "execution_count": 2,
     "metadata": {},
     "output_type": "execute_result"
    }
   ],
   "source": [
    "data = [55, 60, 65, 70, 75, 80]\n",
    "mean_value = np.mean(data)\n",
    "mean_value"
   ]
  },
  {
   "cell_type": "code",
   "execution_count": 3,
   "id": "C97bDARqP5H4",
   "metadata": {
    "colab": {
     "base_uri": "https://localhost:8080/"
    },
    "id": "C97bDARqP5H4",
    "outputId": "315322f5-6083-4b3a-cacc-9e3827cc24cf"
   },
   "outputs": [
    {
     "data": {
      "text/plain": [
       "41.0"
      ]
     },
     "execution_count": 3,
     "metadata": {},
     "output_type": "execute_result"
    }
   ],
   "source": [
    "data = [40, 42, 38, 41, 44]\n",
    "mean_value = np.mean(data)\n",
    "mean_value"
   ]
  },
  {
   "cell_type": "code",
   "execution_count": 6,
   "id": "cPCdnzI6QKEo",
   "metadata": {
    "colab": {
     "base_uri": "https://localhost:8080/"
    },
    "id": "cPCdnzI6QKEo",
    "outputId": "17d02af2-1933-4ac9-b013-26049253278e"
   },
   "outputs": [
    {
     "data": {
      "text/plain": [
       "41.0"
      ]
     },
     "execution_count": 6,
     "metadata": {},
     "output_type": "execute_result"
    }
   ],
   "source": [
    "weekly_time = [23, 29, 35, 41, 47, 53, 59]\n",
    "mean_value = np.mean(weekly_time)\n",
    "mean_value"
   ]
  },
  {
   "cell_type": "markdown",
   "id": "f2c98c44",
   "metadata": {
    "id": "f2c98c44"
   },
   "source": [
    "## 🔹 Median\n",
    "The **median** is the middle value in an ordered dataset. If there is an even number of observations, the median is the average of the two middle values."
   ]
  },
  {
   "cell_type": "code",
   "execution_count": 5,
   "id": "86b665f5",
   "metadata": {
    "colab": {
     "base_uri": "https://localhost:8080/"
    },
    "id": "86b665f5",
    "outputId": "0c61a14e-acae-4e42-888d-69c64ef56724"
   },
   "outputs": [
    {
     "data": {
      "text/plain": [
       "35.0"
      ]
     },
     "execution_count": 5,
     "metadata": {},
     "output_type": "execute_result"
    }
   ],
   "source": [
    "age = [10, 20, 30, 40, 50, 60]\n",
    "median_value = np.median(age)\n",
    "median_value"
   ]
  },
  {
   "cell_type": "markdown",
   "id": "05f09db0",
   "metadata": {
    "id": "05f09db0"
   },
   "source": [
    "### 🏠 Median: Hometasks\n",
    "1. Find the median of: `[12, 15, 14, 11, 13]`\n",
    "2. Find the median income for: `[1200, 1500, 1300, 1100, 1600, 1700]`\n",
    "3. Given house prices: `[100000, 150000, 200000, 250000, 300000, 350000, 400000]`, calculate the median."
   ]
  },
  {
   "cell_type": "code",
   "execution_count": 7,
   "id": "ptrGA1cTQbOd",
   "metadata": {
    "colab": {
     "base_uri": "https://localhost:8080/"
    },
    "id": "ptrGA1cTQbOd",
    "outputId": "80c015df-411b-4b4f-c519-f746f0929370"
   },
   "outputs": [
    {
     "data": {
      "text/plain": [
       "13.0"
      ]
     },
     "execution_count": 7,
     "metadata": {},
     "output_type": "execute_result"
    }
   ],
   "source": [
    "import numpy as np\n",
    "\n",
    "numbers = [12, 15, 14, 11, 13]\n",
    "median_value = np.median(numbers)\n",
    "median_value\n"
   ]
  },
  {
   "cell_type": "code",
   "execution_count": 10,
   "id": "1Vv9lOP2QtW4",
   "metadata": {
    "colab": {
     "base_uri": "https://localhost:8080/"
    },
    "id": "1Vv9lOP2QtW4",
    "outputId": "322b5c86-f398-4e31-db85-0739fe65a56f"
   },
   "outputs": [
    {
     "data": {
      "text/plain": [
       "1400.0"
      ]
     },
     "execution_count": 10,
     "metadata": {},
     "output_type": "execute_result"
    }
   ],
   "source": [
    "incomes = [1200, 1500, 1300, 1100, 1600, 1700]\n",
    "median = np.median(incomes)\n",
    "median\n"
   ]
  },
  {
   "cell_type": "code",
   "execution_count": 9,
   "id": "xYMr4f4DQtKP",
   "metadata": {
    "colab": {
     "base_uri": "https://localhost:8080/"
    },
    "id": "xYMr4f4DQtKP",
    "outputId": "430746fa-fb5a-404c-b5e2-e160b2f71751"
   },
   "outputs": [
    {
     "data": {
      "text/plain": [
       "250000.0"
      ]
     },
     "execution_count": 9,
     "metadata": {},
     "output_type": "execute_result"
    }
   ],
   "source": [
    "HousePrices = [100000, 150000, 200000, 250000, 300000, 350000, 400000]\n",
    "median = np.median(HousePrices)\n",
    "median"
   ]
  },
  {
   "cell_type": "markdown",
   "id": "064c8b4c",
   "metadata": {
    "id": "064c8b4c"
   },
   "source": [
    "## 🔹 Mode\n",
    "The **mode** is the value that appears most frequently in a dataset."
   ]
  },
  {
   "cell_type": "code",
   "execution_count": 11,
   "id": "ebe978ac",
   "metadata": {
    "colab": {
     "base_uri": "https://localhost:8080/"
    },
    "id": "ebe978ac",
    "outputId": "080492e2-a5b5-4015-d0a7-47ca50f5c667"
   },
   "outputs": [
    {
     "data": {
      "text/plain": [
       "4"
      ]
     },
     "execution_count": 11,
     "metadata": {},
     "output_type": "execute_result"
    }
   ],
   "source": [
    "import statistics as stats\n",
    "data = [1, 2, 2, 3, 4, 4, 4, 5]\n",
    "mode_value = stats.mode(data)\n",
    "mode_value"
   ]
  },
  {
   "cell_type": "markdown",
   "id": "e3653314",
   "metadata": {
    "id": "e3653314"
   },
   "source": [
    "### 🏠 Mode: Hometasks\n",
    "1. Find the mode of `[5, 6, 7, 8, 8, 9, 10]`\n",
    "2. A class's test scores: `[45, 55, 65, 65, 75, 85, 95, 65]`. What is the mode?\n",
    "3. Determine the mode in household sizes: `[2, 3, 3, 4, 4, 4, 5, 6]`"
   ]
  },
  {
   "cell_type": "code",
   "execution_count": 12,
   "id": "pVfLebEfRnB7",
   "metadata": {
    "colab": {
     "base_uri": "https://localhost:8080/"
    },
    "id": "pVfLebEfRnB7",
    "outputId": "74b8bb93-84f0-44e1-baf5-a5c10a392075"
   },
   "outputs": [
    {
     "data": {
      "text/plain": [
       "8"
      ]
     },
     "execution_count": 12,
     "metadata": {},
     "output_type": "execute_result"
    }
   ],
   "source": [
    "import statistics as stats\n",
    "nums = [5, 6, 7, 8, 8, 9, 10]\n",
    "mode_value = stats.mode(nums)\n",
    "mode_value"
   ]
  },
  {
   "cell_type": "code",
   "execution_count": 13,
   "id": "1HEdqydWRzRP",
   "metadata": {
    "colab": {
     "base_uri": "https://localhost:8080/"
    },
    "id": "1HEdqydWRzRP",
    "outputId": "00287ec8-56b0-4c4c-c4b3-3a21a192bae8"
   },
   "outputs": [
    {
     "data": {
      "text/plain": [
       "65"
      ]
     },
     "execution_count": 13,
     "metadata": {},
     "output_type": "execute_result"
    }
   ],
   "source": [
    "scores = [45, 55, 65, 65, 75, 85, 95, 65]\n",
    "mode_value = stats.mode(scores)\n",
    "mode_value"
   ]
  },
  {
   "cell_type": "code",
   "execution_count": 14,
   "id": "lf3YiB4nRzJy",
   "metadata": {
    "colab": {
     "base_uri": "https://localhost:8080/"
    },
    "id": "lf3YiB4nRzJy",
    "outputId": "3fe2d848-2965-41d8-909f-970ed893b7e4"
   },
   "outputs": [
    {
     "data": {
      "text/plain": [
       "4"
      ]
     },
     "execution_count": 14,
     "metadata": {},
     "output_type": "execute_result"
    }
   ],
   "source": [
    "household = [2, 3, 3, 4, 4, 4, 5, 6]\n",
    "mode_value = stats.mode(household)\n",
    "mode_value"
   ]
  },
  {
   "cell_type": "markdown",
   "id": "6dcdef06",
   "metadata": {
    "id": "6dcdef06"
   },
   "source": [
    "## 🔹 Variance\n",
    "The **variance** measures the spread of the numbers in a dataset. A higher variance means more variability."
   ]
  },
  {
   "cell_type": "code",
   "execution_count": null,
   "id": "3b657040",
   "metadata": {
    "colab": {
     "base_uri": "https://localhost:8080/"
    },
    "id": "3b657040",
    "outputId": "d1a805c9-0562-4922-ae81-519546ba0752"
   },
   "outputs": [],
   "source": [
    "data = [5, 10, 15, 20, 25]\n",
    "variance_value = np.var(data, ddof=1)  # Sample variance\n",
    "variance_value"
   ]
  },
  {
   "cell_type": "markdown",
   "id": "797ee499",
   "metadata": {
    "id": "797ee499"
   },
   "source": [
    "### 🏠 Variance: Hometasks\n",
    "1. Find the variance of `[2, 4, 6, 8, 10]`\n",
    "2. Calculate the variance for population: `[100, 150, 200, 250, 300]`\n",
    "3. Compute the sample variance for exam scores: `[78, 82, 85, 90, 94]`"
   ]
  },
  {
   "cell_type": "code",
   "execution_count": 15,
   "id": "Dhvb1tPOStBC",
   "metadata": {
    "colab": {
     "base_uri": "https://localhost:8080/"
    },
    "id": "Dhvb1tPOStBC",
    "outputId": "64c4cf26-98ae-4bfa-f8ae-1fc2f33cc2c9"
   },
   "outputs": [
    {
     "data": {
      "text/plain": [
       "8.0"
      ]
     },
     "execution_count": 15,
     "metadata": {},
     "output_type": "execute_result"
    }
   ],
   "source": [
    "import numpy as np\n",
    "data1 = [2, 4, 6, 8, 10]\n",
    "variance_value1 = np.var(data1)   \n",
    "variance_value1\n"
   ]
  },
  {
   "cell_type": "code",
   "execution_count": 16,
   "id": "9fph8VgPTGWY",
   "metadata": {
    "colab": {
     "base_uri": "https://localhost:8080/"
    },
    "id": "9fph8VgPTGWY",
    "outputId": "dc3227e6-9dae-4147-f8e2-449f910e9ec8"
   },
   "outputs": [
    {
     "data": {
      "text/plain": [
       "5000.0"
      ]
     },
     "execution_count": 16,
     "metadata": {},
     "output_type": "execute_result"
    }
   ],
   "source": [
    "data2 = [100, 150, 200, 250, 300]\n",
    "variance_value2 = np.var(data2)   \n",
    "variance_value2"
   ]
  },
  {
   "cell_type": "code",
   "execution_count": 17,
   "id": "9iJ8QBpyTQS4",
   "metadata": {
    "colab": {
     "base_uri": "https://localhost:8080/"
    },
    "id": "9iJ8QBpyTQS4",
    "outputId": "3c29427c-c6f5-4cb5-ce61-2d2be810dea0"
   },
   "outputs": [
    {
     "data": {
      "text/plain": [
       "40.2"
      ]
     },
     "execution_count": 17,
     "metadata": {},
     "output_type": "execute_result"
    }
   ],
   "source": [
    "scores = [78, 82, 85, 90, 94]\n",
    "variance_value3 = np.var(scores, ddof=1)  \n",
    "variance_value3\n"
   ]
  },
  {
   "cell_type": "code",
   "execution_count": null,
   "id": "b3Dv1DwTTZXd",
   "metadata": {
    "colab": {
     "base_uri": "https://localhost:8080/"
    },
    "id": "b3Dv1DwTTZXd",
    "outputId": "337c8cae-9229-4eac-e913-6014957ba7df"
   },
   "outputs": [],
   "source": []
  },
  {
   "cell_type": "markdown",
   "id": "dcb9ac79",
   "metadata": {
    "id": "dcb9ac79"
   },
   "source": [
    "## 🔹 Standard Deviation\n",
    "**Standard deviation** is the square root of the variance. It also shows the spread of data."
   ]
  },
  {
   "cell_type": "code",
   "execution_count": 18,
   "id": "7bc81fb8",
   "metadata": {
    "colab": {
     "base_uri": "https://localhost:8080/"
    },
    "id": "7bc81fb8",
    "outputId": "c2d3b098-15d3-47a4-f4d0-8154aa051a2a"
   },
   "outputs": [
    {
     "data": {
      "text/plain": [
       "1.3562026818605375"
      ]
     },
     "execution_count": 18,
     "metadata": {},
     "output_type": "execute_result"
    }
   ],
   "source": [
    "std_dev = np.std(data, ddof=1)\n",
    "std_dev"
   ]
  },
  {
   "cell_type": "markdown",
   "id": "15ea40e0",
   "metadata": {
    "id": "15ea40e0"
   },
   "source": [
    "### 🏠 Standard Deviation: Hometasks\n",
    "1. Calculate the standard deviation of: `[10, 12, 14, 16, 18]`\n",
    "2. What is the standard deviation for population sizes: `[1000, 1050, 1100, 1150, 1200]`?\n",
    "3. Find the sample standard deviation for: `[30, 35, 40, 45, 50]`"
   ]
  },
  {
   "cell_type": "code",
   "execution_count": 19,
   "id": "JIxI5EmUToXR",
   "metadata": {
    "colab": {
     "base_uri": "https://localhost:8080/"
    },
    "id": "JIxI5EmUToXR",
    "outputId": "861d264a-5ecb-4c2c-c7d3-41c076519caa"
   },
   "outputs": [
    {
     "data": {
      "text/plain": [
       "3.1622776601683795"
      ]
     },
     "execution_count": 19,
     "metadata": {},
     "output_type": "execute_result"
    }
   ],
   "source": [
    "import numpy as np\n",
    "data1 = [10, 12, 14, 16, 18]\n",
    "std_dev1 = np.std(data1, ddof=1) \n",
    "std_dev1\n"
   ]
  },
  {
   "cell_type": "code",
   "execution_count": 20,
   "id": "RFlGQxnRToQc",
   "metadata": {
    "colab": {
     "base_uri": "https://localhost:8080/"
    },
    "id": "RFlGQxnRToQc",
    "outputId": "c9bc8343-701e-43c1-aa2c-7ef0a9cf5423"
   },
   "outputs": [
    {
     "data": {
      "text/plain": [
       "70.71067811865476"
      ]
     },
     "execution_count": 20,
     "metadata": {},
     "output_type": "execute_result"
    }
   ],
   "source": [
    "data2 = [1000, 1050, 1100, 1150, 1200]\n",
    "std_dev2 = np.std(data2)\n",
    "std_dev2\n"
   ]
  },
  {
   "cell_type": "code",
   "execution_count": 21,
   "id": "W9AS8VbMToJB",
   "metadata": {
    "colab": {
     "base_uri": "https://localhost:8080/"
    },
    "id": "W9AS8VbMToJB",
    "outputId": "f729b327-d5ea-4dbe-d906-5823d86c9f29"
   },
   "outputs": [
    {
     "data": {
      "text/plain": [
       "7.905694150420948"
      ]
     },
     "execution_count": 21,
     "metadata": {},
     "output_type": "execute_result"
    }
   ],
   "source": [
    "data3 = [30, 35, 40, 45, 50]\n",
    "std_dev3 = np.std(data3, ddof=1)\n",
    "std_dev3\n"
   ]
  },
  {
   "cell_type": "code",
   "execution_count": null,
   "id": "c6KrH4YiUXJb",
   "metadata": {
    "colab": {
     "base_uri": "https://localhost:8080/"
    },
    "id": "c6KrH4YiUXJb",
    "outputId": "e992e5d9-b06e-4645-cba8-60decc221d86"
   },
   "outputs": [],
   "source": []
  }
 ],
 "metadata": {
  "colab": {
   "provenance": []
  },
  "kernelspec": {
   "display_name": "anaconda-panel-2023.05-py310",
   "language": "python",
   "name": "conda-env-anaconda-panel-2023.05-py310-py"
  },
  "language_info": {
   "codemirror_mode": {
    "name": "ipython",
    "version": 3
   },
   "file_extension": ".py",
   "mimetype": "text/x-python",
   "name": "python",
   "nbconvert_exporter": "python",
   "pygments_lexer": "ipython3",
   "version": "3.11.5"
  }
 },
 "nbformat": 4,
 "nbformat_minor": 5
}
