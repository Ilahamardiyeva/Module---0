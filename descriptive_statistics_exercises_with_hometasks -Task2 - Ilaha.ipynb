{
 "cells": [
  {
   "cell_type": "markdown",
   "id": "7606c4c9",
   "metadata": {},
   "source": [
    "# Descriptive Statistics Exercises and Solutions\n",
    "This notebook includes basic exercises related to descriptive statistics, including mean, median, mode, variance, and standard deviation."
   ]
  },
  {
   "cell_type": "markdown",
   "id": "e595fff0",
   "metadata": {},
   "source": [
    "## Exercise 1: Calculate Measures of Central Tendency\n",
    "**Task:** Given the following data, calculate the mean, median, and mode:\n",
    "`data = [12, 15, 12, 18, 19, 12, 16, 14, 18, 19]`"
   ]
  },
  {
   "cell_type": "code",
   "execution_count": 1,
   "id": "0f5fc95a",
   "metadata": {},
   "outputs": [
    {
     "data": {
      "text/plain": [
       "(15.5, 15.5, 12)"
      ]
     },
     "execution_count": 1,
     "metadata": {},
     "output_type": "execute_result"
    }
   ],
   "source": [
    "import statistics as stats\n",
    "import numpy as np\n",
    "import pandas as pd\n",
    "\n",
    "data = [12, 15, 12, 18, 19, 12, 16, 14, 18, 19]\n",
    "mean = np.mean(data)\n",
    "median = np.median(data)\n",
    "mode = stats.mode(data)\n",
    "mean, median, mode"
   ]
  },
  {
   "cell_type": "markdown",
   "id": "fc1c54ca",
   "metadata": {},
   "source": [
    "## Exercise 2: Calculate Measures of Dispersion\n",
    "**Task:** Using the same data, calculate the variance and standard deviation."
   ]
  },
  {
   "cell_type": "code",
   "execution_count": 2,
   "id": "26c18595",
   "metadata": {},
   "outputs": [
    {
     "data": {
      "text/plain": [
       "(8.5, 2.9154759474226504)"
      ]
     },
     "execution_count": 2,
     "metadata": {},
     "output_type": "execute_result"
    }
   ],
   "source": [
    "variance = np.var(data, ddof=1)  # Sample variance\n",
    "std_dev = np.std(data, ddof=1)  # Sample standard deviation\n",
    "variance, std_dev"
   ]
  },
  {
   "cell_type": "markdown",
   "id": "6a7a86fb",
   "metadata": {},
   "source": [
    "## Exercise 3: Five Number Summary\n",
    "**Task:** Compute the minimum, Q1, median (Q2), Q3, and maximum."
   ]
  },
  {
   "cell_type": "code",
   "execution_count": 3,
   "id": "cfa889dc",
   "metadata": {},
   "outputs": [
    {
     "data": {
      "text/plain": [
       "(12, 12.5, 15.5, 18.0, 19)"
      ]
     },
     "execution_count": 3,
     "metadata": {},
     "output_type": "execute_result"
    }
   ],
   "source": [
    "min_val = np.min(data)\n",
    "q1 = np.percentile(data, 25)\n",
    "q2 = np.percentile(data, 50)\n",
    "q3 = np.percentile(data, 75)\n",
    "max_val = np.max(data)\n",
    "min_val, q1, q2, q3, max_val"
   ]
  },
  {
   "cell_type": "markdown",
   "id": "66d075cb",
   "metadata": {},
   "source": [
    "## Exercise 4: Visualizing the Data\n",
    "**Task:** Create a boxplot to visualize the distribution of the data."
   ]
  },
  {
   "cell_type": "code",
   "execution_count": 4,
   "id": "f0c100c9",
   "metadata": {},
   "outputs": [
    {
     "data": {
      "image/png": "[encoded data removed]",
      "text/plain": [
       "<Figure size 640x480 with 1 Axes>"
      ]
     },
     "metadata": {},
     "output_type": "display_data"
    }
   ],
   "source": [
    "import matplotlib.pyplot as plt\n",
    "plt.boxplot(data, vert=False)\n",
    "plt.title('Boxplot of Data')\n",
    "plt.xlabel('Values')\n",
    "plt.grid(True)\n",
    "plt.show()"
   ]
  },
  {
   "cell_type": "markdown",
   "id": "206093ce",
   "metadata": {},
   "source": [
    "## 🏠 Homework Tasks for Descriptive Statistics\n",
    "Solve the following tasks independently. Try to interpret your results as well.\n"
   ]
  },
  {
   "cell_type": "markdown",
   "id": "446577d5",
   "metadata": {},
   "source": [
    "### 📌 Homework: Measures of Central Tendency\n",
    "#### Task 1:\n",
    "Given the dataset: `[21, 23, 19, 25, 30, 21, 20, 19, 25, 23]`, calculate the **mean**, **median**, and **mode**.\n",
    "\n",
    "#### Task 2:\n",
    "You surveyed 15 households and collected the following data for the number of children: `[2, 3, 1, 4, 2, 3, 3, 2, 1, 4, 5, 3, 2, 1, 4]`. Find the **mean**, **median**, and **mode**.\n",
    "\n",
    "#### Task 3:\n",
    "In a small company, the monthly salaries (in hundreds) are: `[35, 40, 45, 50, 40, 35, 100, 45, 40, 35]`. Compute the **mean**, **median**, and **mode** and comment on any skewness."
   ]
  },
  {
   "cell_type": "code",
   "execution_count": 5,
   "id": "1175b68e-2a1a-4339-8c07-475d3fa07836",
   "metadata": {},
   "outputs": [
    {
     "data": {
      "text/plain": [
       "(22.6, 22.0, 21)"
      ]
     },
     "execution_count": 5,
     "metadata": {},
     "output_type": "execute_result"
    }
   ],
   "source": [
    "import statistics as stats\n",
    "import numpy as np\n",
    "import pandas as pd\n",
    "\n",
    "data = [21, 23, 19, 25, 30, 21, 20, 19, 25, 23]\n",
    "mean = np.mean(data)\n",
    "median = np.median(data)\n",
    "mode = stats.mode(data)\n",
    "mean, median, mode"
   ]
  },
  {
   "cell_type": "code",
   "execution_count": 6,
   "id": "80f0912c-73a8-44cd-981f-e97281e7165f",
   "metadata": {},
   "outputs": [
    {
     "data": {
      "text/plain": [
       "(2.6666666666666665, 3.0, 2)"
      ]
     },
     "execution_count": 6,
     "metadata": {},
     "output_type": "execute_result"
    }
   ],
   "source": [
    "import statistics as stats\n",
    "import numpy as np\n",
    "import pandas as pd\n",
    "\n",
    "data = [2, 3, 1, 4, 2, 3, 3, 2, 1, 4, 5, 3, 2, 1, 4]\n",
    "mean = np.mean(data)\n",
    "median = np.median(data)\n",
    "mode = stats.mode(data)\n",
    "mean, median, mode"
   ]
  },
  {
   "cell_type": "code",
   "execution_count": 7,
   "id": "ea8bf3c2-0942-4989-98d0-575f146560f3",
   "metadata": {},
   "outputs": [
    {
     "data": {
      "text/plain": [
       "(46.5, 40.0, 35)"
      ]
     },
     "execution_count": 7,
     "metadata": {},
     "output_type": "execute_result"
    }
   ],
   "source": [
    "import statistics as stats\n",
    "import numpy as np\n",
    "import pandas as pd\n",
    "\n",
    "data = [35, 40, 45, 50, 40, 35, 100, 45, 40, 35]\n",
    "mean = np.mean(data)\n",
    "median = np.median(data)\n",
    "mode = stats.mode(data)\n",
    "mean, median, mode"
   ]
  },
  {
   "cell_type": "markdown",
   "id": "1c768912",
   "metadata": {},
   "source": [
    "### 📌 Homework: Measures of Dispersion\n",
    "#### Task 1:\n",
    "Use the dataset: `[5, 10, 10, 10, 15, 20, 25, 25, 30]` to calculate **variance** and **standard deviation**.\n",
    "\n",
    "#### Task 2:\n",
    "Income levels (in AZN) for 8 families are: `[500, 700, 800, 600, 1200, 1000, 950, 1100]`. Calculate **variance** and **standard deviation**.\n",
    "\n",
    "#### Task 3:\n",
    "Evaluate the spread of scores in a classroom: `[60, 65, 70, 75, 80, 85, 90, 95, 100]`. What are the **sample variance** and **standard deviation**?"
   ]
  },
  {
   "cell_type": "code",
   "execution_count": 11,
   "id": "6bc59fe6-3dde-441a-ab75-61259c2b8987",
   "metadata": {},
   "outputs": [
    {
     "data": {
      "text/plain": [
       "(75.0, 8.660254037844387)"
      ]
     },
     "execution_count": 11,
     "metadata": {},
     "output_type": "execute_result"
    }
   ],
   "source": [
    "data1 = [5, 10, 10, 10, 15, 20, 25, 25, 30]\n",
    "variance = np.var(data1, ddof=1)  # Sample variance\n",
    "std_dev = np.std(data1, ddof=1)  # Sample standard deviation\n",
    "variance, std_dev"
   ]
  },
  {
   "cell_type": "code",
   "execution_count": 14,
   "id": "5875a913-18de-4730-9424-d1dddc981a01",
   "metadata": {},
   "outputs": [
    {
     "data": {
      "text/plain": [
       "(61026.78571428572, 247.03600084660883)"
      ]
     },
     "execution_count": 14,
     "metadata": {},
     "output_type": "execute_result"
    }
   ],
   "source": [
    "data2 = [500, 700, 800, 600, 1200, 1000, 950, 1100]\n",
    "variance2 = np.var(data2, ddof=1)  # Sample variance\n",
    "std_dev2 = np.std(data2, ddof=1)   # Sample std\n",
    "variance2, std_dev2"
   ]
  },
  {
   "cell_type": "code",
   "execution_count": 15,
   "id": "924fe40e-4a21-4806-9821-a76632bfdab3",
   "metadata": {},
   "outputs": [
    {
     "data": {
      "text/plain": [
       "(187.5, 13.693063937629153)"
      ]
     },
     "execution_count": 15,
     "metadata": {},
     "output_type": "execute_result"
    }
   ],
   "source": [
    "data3 = [60, 65, 70, 75, 80, 85, 90, 95, 100]\n",
    "variance3 = np.var(data3, ddof=1)  # Sample variance\n",
    "std_dev3 = np.std(data3, ddof=1)   # Sample std\n",
    "variance3, std_dev3"
   ]
  },
  {
   "cell_type": "markdown",
   "id": "9b505403",
   "metadata": {},
   "source": [
    "### 📌 Homework: Five Number Summary\n",
    "#### Task 1:\n",
    "Compute the **five-number summary** for `[100, 102, 105, 107, 110, 113, 115, 117, 120]`.\n",
    "\n",
    "#### Task 2:\n",
    "Given household expenses in a community: `[230, 250, 270, 290, 310, 330, 350, 370, 390, 410]`, calculate the **minimum**, **Q1**, **Q2**, **Q3**, and **maximum**.\n",
    "\n",
    "#### Task 3:\n",
    "Analyze the five-number summary for the number of working hours per week: `[35, 36, 38, 40, 42, 44, 46, 48, 50, 55]`."
   ]
  },
  {
   "cell_type": "code",
   "execution_count": 16,
   "id": "45418d7f-8064-4a99-a68d-60dd769fc745",
   "metadata": {},
   "outputs": [
    {
     "data": {
      "text/plain": [
       "(100, 105.0, 110.0, 115.0, 120)"
      ]
     },
     "execution_count": 16,
     "metadata": {},
     "output_type": "execute_result"
    }
   ],
   "source": [
    "Numbers = [100, 102, 105, 107, 110, 113, 115, 117, 120]\n",
    "min_val = np.min(Numbers)\n",
    "q1 = np.percentile(Numbers, 25)\n",
    "q2 = np.percentile(Numbers, 50)\n",
    "q3 = np.percentile(Numbers, 75)\n",
    "max_val = np.max(Numbers)\n",
    "min_val, q1, q2, q3, max_val"
   ]
  },
  {
   "cell_type": "code",
   "execution_count": 17,
   "id": "45610940-3b00-46c3-9e68-904fd59df329",
   "metadata": {},
   "outputs": [
    {
     "data": {
      "text/plain": [
       "(35, 38.5, 43.0, 47.5, 55)"
      ]
     },
     "execution_count": 17,
     "metadata": {},
     "output_type": "execute_result"
    }
   ],
   "source": [
    "Numbers = [35, 36, 38, 40, 42, 44, 46, 48, 50, 55]\n",
    "min_val = np.min(Numbers)\n",
    "q1 = np.percentile(Numbers, 25)\n",
    "q2 = np.percentile(Numbers, 50)\n",
    "q3 = np.percentile(Numbers, 75)\n",
    "max_val = np.max(Numbers)\n",
    "min_val, q1, q2, q3, max_val"
   ]
  },
  {
   "cell_type": "code",
   "execution_count": null,
   "id": "f83e9183-af66-46ff-833a-0b5d4ca29a71",
   "metadata": {},
   "outputs": [],
   "source": []
  }
 ],
 "metadata": {
  "kernelspec": {
   "display_name": "anaconda-panel-2023.05-py310",
   "language": "python",
   "name": "conda-env-anaconda-panel-2023.05-py310-py"
  },
  "language_info": {
   "codemirror_mode": {
    "name": "ipython",
    "version": 3
   },
   "file_extension": ".py",
   "mimetype": "text/x-python",
   "name": "python",
   "nbconvert_exporter": "python",
   "pygments_lexer": "ipython3",
   "version": "3.11.5"
  }
 },
 "nbformat": 4,
 "nbformat_minor": 5
}
